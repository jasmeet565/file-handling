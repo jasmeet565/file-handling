{
  "nbformat": 4,
  "nbformat_minor": 0,
  "metadata": {
    "colab": {
      "name": "Untitled80.ipynb",
      "provenance": []
    },
    "kernelspec": {
      "name": "python3",
      "display_name": "Python 3"
    }
  },
  "cells": [
    {
      "cell_type": "code",
      "metadata": {
        "id": "i9aVgKEcdW2p",
        "colab_type": "code",
        "colab": {
          "base_uri": "https://localhost:8080/",
          "height": 34
        },
        "outputId": "a8883fb7-8753-4890-8131-26f60d7ecf14"
      },
      "source": [
        "fin = open(\"jas.txt\")\n",
        "fin.readlines()\n",
        "\n",
        "\n",
        "\n"
      ],
      "execution_count": 2,
      "outputs": [
        {
          "output_type": "execute_result",
          "data": {
            "text/plain": [
              "['hello world']"
            ]
          },
          "metadata": {
            "tags": []
          },
          "execution_count": 2
        }
      ]
    },
    {
      "cell_type": "code",
      "metadata": {
        "id": "RqHCLzmpeEt1",
        "colab_type": "code",
        "colab": {
          "base_uri": "https://localhost:8080/",
          "height": 34
        },
        "outputId": "d8ff729d-1c0d-49b5-eae7-5d061d32fc1e"
      },
      "source": [
        "fin = open(\"jas.txt\",'a')\n",
        "fin.write('\\nhello')"
      ],
      "execution_count": 7,
      "outputs": [
        {
          "output_type": "execute_result",
          "data": {
            "text/plain": [
              "6"
            ]
          },
          "metadata": {
            "tags": []
          },
          "execution_count": 7
        }
      ]
    },
    {
      "cell_type": "code",
      "metadata": {
        "id": "6O-0a9shfFjw",
        "colab_type": "code",
        "colab": {
          "base_uri": "https://localhost:8080/",
          "height": 85
        },
        "outputId": "630e2448-dc43-404e-eaa9-b8e9e21d54fa"
      },
      "source": [
        "fin = open(\"jas.txt\",'a')\n",
        "fin.write('\\nhello')\n",
        "fin = open(\"jas.txt\",'r')\n",
        "print(fin.read())"
      ],
      "execution_count": 11,
      "outputs": [
        {
          "output_type": "stream",
          "text": [
            "hello world\n",
            "hello\n",
            "hello\n",
            "hello\n"
          ],
          "name": "stdout"
        }
      ]
    },
    {
      "cell_type": "code",
      "metadata": {
        "id": "N0CKXK6-flN_",
        "colab_type": "code",
        "colab": {
          "base_uri": "https://localhost:8080/",
          "height": 34
        },
        "outputId": "55d18813-0b00-49ac-c3c9-52b6e65ea08a"
      },
      "source": [
        "fin = open(\"jas.txt\",'r')\n",
        "fin.readlines()"
      ],
      "execution_count": 13,
      "outputs": [
        {
          "output_type": "execute_result",
          "data": {
            "text/plain": [
              "['hello world\\n', 'hello\\n', 'hello\\n', 'hello']"
            ]
          },
          "metadata": {
            "tags": []
          },
          "execution_count": 13
        }
      ]
    },
    {
      "cell_type": "code",
      "metadata": {
        "id": "o4myeuTkhIrd",
        "colab_type": "code",
        "colab": {
          "base_uri": "https://localhost:8080/",
          "height": 136
        },
        "outputId": "8ae096f0-9ab7-4bdf-cd10-72c13e06a194"
      },
      "source": [
        "fin = open(\"jas.txt\",'r')\n",
        "for i in fin:\n",
        "  print(i)"
      ],
      "execution_count": 17,
      "outputs": [
        {
          "output_type": "stream",
          "text": [
            "hello world\n",
            "\n",
            "hello\n",
            "\n",
            "hello\n",
            "\n",
            "hello\n"
          ],
          "name": "stdout"
        }
      ]
    },
    {
      "cell_type": "code",
      "metadata": {
        "id": "tmIjAZdWht0d",
        "colab_type": "code",
        "colab": {
          "base_uri": "https://localhost:8080/",
          "height": 85
        },
        "outputId": "06287498-3dd2-4b52-afb4-ab43cdde39e7"
      },
      "source": [
        "fin = open(\"jas.txt\",'r')\n",
        "for i in fin:\n",
        " item = i.split()\n",
        " print(item)"
      ],
      "execution_count": 19,
      "outputs": [
        {
          "output_type": "stream",
          "text": [
            "['hello', 'world']\n",
            "['hello']\n",
            "['hello']\n",
            "['hello']\n"
          ],
          "name": "stdout"
        }
      ]
    },
    {
      "cell_type": "code",
      "metadata": {
        "id": "xX7wG2Pxh6cj",
        "colab_type": "code",
        "colab": {
          "base_uri": "https://localhost:8080/",
          "height": 129
        },
        "outputId": "2298e172-15da-495f-d602-f950397fb6bd"
      },
      "source": [
        "fin = open(\"jas.txt\",'r')\n",
        "for i in fin:\n",
        "print (len(i))"
      ],
      "execution_count": 22,
      "outputs": [
        {
          "output_type": "error",
          "ename": "IndentationError",
          "evalue": "ignored",
          "traceback": [
            "\u001b[0;36m  File \u001b[0;32m\"<ipython-input-22-cc67b638b996>\"\u001b[0;36m, line \u001b[0;32m3\u001b[0m\n\u001b[0;31m    print (len(i))\u001b[0m\n\u001b[0m        ^\u001b[0m\n\u001b[0;31mIndentationError\u001b[0m\u001b[0;31m:\u001b[0m expected an indented block\n"
          ]
        }
      ]
    }
  ]
}